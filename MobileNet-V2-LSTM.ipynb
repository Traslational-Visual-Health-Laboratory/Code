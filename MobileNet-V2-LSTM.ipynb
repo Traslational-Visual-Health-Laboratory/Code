{
 "cells": [
  {
   "cell_type": "code",
   "execution_count": null,
   "id": "2a532ecf-7dde-44c5-9975-f09359879b3f",
   "metadata": {},
   "outputs": [],
   "source": [
    "import tensorflow as tf\n",
    "from tensorflow import keras\n",
    "import numpy as np\n",
    "import matplotlib.pyplot as plt\n",
    "import os\n",
    "from keras.layers import Conv2D, Activation, MaxPooling2D, Flatten, Dense, Dropout\n",
    "import matplotlib.pyplot as plt\n",
    "import numpy as np\n",
    "import pandas as pd\n",
    "import os\n",
    "import tensorflow as tf\n",
    "from keras.layers import Dense, Flatten, LSTM, Activation\n",
    "from keras.layers import Dropout, RepeatVector, TimeDistributed\n",
    "from keras import Input, Model\n"
   ]
  },
  {
   "cell_type": "code",
   "execution_count": null,
   "id": "2ffdfcc1-095e-416b-aea9-8639e71de26e",
   "metadata": {},
   "outputs": [],
   "source": [
    "'tensorflow==2.7.0',\n",
    "'tf-models-official==2.7.0',\n",
    "'tensorflow_io==0.23.1'"
   ]
  },
  {
   "cell_type": "code",
   "execution_count": null,
   "id": "7c5053d0-805f-4e6a-ac6d-68b427a26fed",
   "metadata": {},
   "outputs": [],
   "source": [
    "#Train and test sets\n",
    "from tensorflow.keras.preprocessing.image import ImageDataGenerator\n",
    "import numpy as np \n",
    "\n",
    "datagen= ImageDataGenerator(\n",
    "    rescale = 1./255,\n",
    "    #horizontal_flip =True,\n",
    "    #vertical_flip = True,\n",
    "    validation_split = 0.2 \n",
    ")\n",
    "#Name of the folder that contains the images for the training\n",
    "name_directory = ''\n",
    "\n",
    "data_gen_train =datagen.flow_from_directory(name_directory, target_size=(224,224), batch_size=32, shuffle=True, subset='training')\n",
    "data_gen_test = datagen.flow_from_directory(name_directory, target_size=(224, 224), batch_size=32, shuffle=True, subset='validation')"
   ]
  },
  {
   "cell_type": "code",
   "execution_count": null,
   "id": "62f37bd3-0686-418f-98e6-c74738adeb23",
   "metadata": {},
   "outputs": [],
   "source": [
    "base_model=tf.keras.applications.MobileNetV2(\n",
    "    include_top=False,\n",
    "    weights=\"imagenet\",\n",
    "    input_tensor=None,\n",
    "    input_shape=None,\n",
    "    pooling=None,\n",
    "    classes=1000,\n",
    ")"
   ]
  },
  {
   "cell_type": "code",
   "execution_count": null,
   "id": "bb96f5b2-4bbe-4afb-95c8-3955e48f9714",
   "metadata": {},
   "outputs": [],
   "source": [
    "base_model.trainable=False"
   ]
  },
  {
   "cell_type": "code",
   "execution_count": null,
   "id": "28d4deb2-00e7-4884-913e-04531bad24d5",
   "metadata": {},
   "outputs": [],
   "source": [
    "#Fine-tuning\n",
    "model = tf.keras.Sequential()\n",
    "model.add(base_model)\n",
    "model.add(tf.keras.layers.GlobalAveragePooling2D())\n",
    "model.add(tf.keras.layers.Dense(320, activation='relu'))\n",
    "model.add(tf.keras.layers.Dropout(0.2))\n",
    "model.add(tf.keras.layers.Dense(320, activation='relu'))\n",
    "model.add(tf.keras.layers.Dropout(0.2))\n",
    "\n",
    "seq_length = 15\n",
    "input_dims = 320\n",
    "output_dims = 2\n",
    "n_hidden = 320\n",
    "lstm_dims = 1000\n",
    "model1_inputs = Input(shape=(input_dims,))\n",
    "model1_outputs = Input(shape=(output_dims,))\n",
    "\n",
    "net1 = Dense(n_hidden)(model1_inputs)\n",
    "net1 = Dense(n_hidden)(net1)\n",
    "\n",
    "net1 = RepeatVector(3)(net1)\n",
    "net1 = LSTM(lstm_dims, return_sequences=True)(net1)\n",
    "net1 = LSTM(lstm_dims, return_sequences=False)(net1)\n",
    "net1 = Dense(output_dims, activation='softmax')(net1)\n",
    "model1_outputs = net1\n",
    "\n",
    "model1 = Model(inputs=model1_inputs, outputs = model1_outputs, name='model1')\n",
    "\n",
    "model1.summary()\n",
    "\n",
    "model.add(model1)\n",
    "\n",
    "model.summary()"
   ]
  },
  {
   "cell_type": "code",
   "execution_count": null,
   "id": "cec84d91-770a-41cb-be94-4917f610f258",
   "metadata": {},
   "outputs": [],
   "source": [
    "model.compile(optimizer='adam',\n",
    "              loss=tf.keras.losses.BinaryCrossentropy(),\n",
    "              metrics=['accuracy'])"
   ]
  },
  {
   "cell_type": "code",
   "execution_count": null,
   "id": "d06a4b94-1bd5-4cab-8543-a7cca8d89378",
   "metadata": {},
   "outputs": [],
   "source": [
    "#Train\n",
    "Epochs = 200\n",
    "\n",
    "history = model.fit(data_gen_train, epochs=Epochs, batch_size=32, validation_data=data_gen_test)"
   ]
  },
  {
   "cell_type": "code",
   "execution_count": null,
   "id": "0af6a1ae-42d5-4b82-965a-4a2d2218e327",
   "metadata": {},
   "outputs": [],
   "source": [
    "import matplotlib.pyplot as plt\n",
    "acc = historial.history['accuracy']\n",
    "val_acc = historial.history['val_accuracy']\n",
    "\n",
    "loss = historial.history['loss']\n",
    "val_loss = historial.history['val_loss']\n",
    "\n",
    "range_epochs = range(Epochs)\n",
    "\n",
    "plt.figure(figsize=(8,8))\n",
    "plt.subplot(1,2,1)\n",
    "plt.plot(range_epochs, acc, label='Accuracy train')\n",
    "plt.plot(range_epochs, val_acc, label='Acurracy test')\n",
    "plt.legend(loc='lower right')\n",
    "plt.title('Accuracy test and train')\n",
    "\n",
    "plt.subplot(1,2,2)\n",
    "plt.plot(range_epochs, loss, label='Loss Train')\n",
    "plt.plot(range_epochs, val_loss, label='Loss test')\n",
    "plt.legend(loc='upper right')\n",
    "plt.title('Loss test and train')\n",
    "plt.show()"
   ]
  },
  {
   "cell_type": "code",
   "execution_count": null,
   "id": "1e331ea0-9a70-4921-81b5-90627fe9f161",
   "metadata": {},
   "outputs": [],
   "source": [
    "#Saving the model\n",
    "dir='./model_mobilenetv2/'\n",
    "\n",
    "if not os.path.exists(dir):\n",
    "    os.mkdir(dir)\n",
    "model.save('./model_mobilenetv2/model_mobilenetv2_LSTM.h5')\n",
    "model.save_weights('./model_mobilenetv2/weights_mobilenetv2_LSTM.h5')"
   ]
  }
 ],
 "metadata": {
  "kernelspec": {
   "display_name": "Python 3",
   "language": "python",
   "name": "python3"
  },
  "language_info": {
   "codemirror_mode": {
    "name": "ipython",
    "version": 3
   },
   "file_extension": ".py",
   "mimetype": "text/x-python",
   "name": "python",
   "nbconvert_exporter": "python",
   "pygments_lexer": "ipython3",
   "version": "3.8.5"
  }
 },
 "nbformat": 4,
 "nbformat_minor": 5
}
