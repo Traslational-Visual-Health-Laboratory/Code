{
 "cells": [
  {
   "cell_type": "code",
   "execution_count": null,
   "id": "55bb3172",
   "metadata": {},
   "outputs": [],
   "source": [
    "import tensorflow as tf\n",
    "from tensorflow import keras\n",
    "import numpy as np\n",
    "import matplotlib.pyplot as plt\n",
    "import os\n",
    "from keras.layers import Conv2D, Activation, MaxPooling2D, Flatten, Dense, Dropout"
   ]
  },
  {
   "cell_type": "code",
   "execution_count": null,
   "id": "13b5000b-e6f0-4443-aef2-2832b3f8015b",
   "metadata": {},
   "outputs": [],
   "source": [
    "'tensorflow==2.7.0',\n",
    "'tf-models-official==2.7.0',\n",
    "'tensorflow_io==0.23.1'"
   ]
  },
  {
   "cell_type": "code",
   "execution_count": null,
   "id": "8f02458f",
   "metadata": {},
   "outputs": [],
   "source": [
    "#Train and test sets\n",
    "from tensorflow.keras.preprocessing.image import ImageDataGenerator\n",
    "import numpy as np \n",
    "\n",
    "datagen= ImageDataGenerator(\n",
    "    rescale = 1./255,\n",
    "    #horizontal_flip =True,\n",
    "    #vertical_flip = True,\n",
    "    validation_split = 0.2 \n",
    ")\n",
    "#Name of the folder that contains the images for the training\n",
    "name_directory = ''\n",
    "\n",
    "data_gen_train =datagen.flow_from_directory(name_directory, target_size=(224,224), batch_size=32, shuffle=True, subset='training')\n",
    "data_gen_test = datagen.flow_from_directory(name_directory, target_size=(224, 224), batch_size=32, shuffle=True, subset='validation')"
   ]
  },
  {
   "cell_type": "code",
   "execution_count": null,
   "id": "ed074fe1",
   "metadata": {},
   "outputs": [],
   "source": [
    "import tensorflow as tf\n",
    "import tensorflow_hub as hub\n",
    "link='https://tfhub.dev/google/imagenet/resnet_v1_101/feature_vector/5'\n",
    "resnet = hub.KerasLayer(link, input_shape=(224,224,3))"
   ]
  },
  {
   "cell_type": "code",
   "execution_count": null,
   "id": "2a1a0cc5-6d91-4fe2-8d1c-64a2e6164993",
   "metadata": {},
   "outputs": [],
   "source": [
    "resnet.trainable=False"
   ]
  },
  {
   "cell_type": "code",
   "execution_count": null,
   "id": "878fb4ef-6652-4491-9161-68bb9fde7c4c",
   "metadata": {},
   "outputs": [],
   "source": [
    "#Model\n",
    "\n",
    "model = tf.keras.Sequential([resnet,tf.keras.layers.Dense(2, activation='softmax')])"
   ]
  },
  {
   "cell_type": "code",
   "execution_count": null,
   "id": "d02d7a09-4ae5-40ba-af79-3d6eb52c8617",
   "metadata": {},
   "outputs": [],
   "source": [
    "model.summary()"
   ]
  },
  {
   "cell_type": "code",
   "execution_count": null,
   "id": "48d0eb9b-f7ea-421f-87da-0dd92203fce0",
   "metadata": {},
   "outputs": [],
   "source": [
    "model.compile(optimizer='adam',\n",
    "              loss=tf.keras.losses.BinaryCrossentropy(),\n",
    "              metrics=['accuracy'])"
   ]
  },
  {
   "cell_type": "code",
   "execution_count": null,
   "id": "60fb9522-0527-4338-a9dc-116a1ee3dff7",
   "metadata": {},
   "outputs": [],
   "source": [
    "#Train\n",
    "Epochs = 50\n",
    "\n",
    "history = model.fit(data_gen_train, epochs=Epochs, batch_size=32, validation_data=data_gen_test)"
   ]
  },
  {
   "cell_type": "code",
   "execution_count": null,
   "id": "884251d8-7a92-4cc7-aed2-7dda77cbf3e3",
   "metadata": {},
   "outputs": [],
   "source": [
    "import matplotlib.pyplot as plt\n",
    "acc = historial.history['accuracy']\n",
    "val_acc = historial.history['val_accuracy']\n",
    "\n",
    "loss = historial.history['loss']\n",
    "val_loss = historial.history['val_loss']\n",
    "\n",
    "range_epochs = range(Epochs)\n",
    "\n",
    "plt.figure(figsize=(8,8))\n",
    "plt.subplot(1,2,1)\n",
    "plt.plot(range_epochs, acc, label='Accuracy train')\n",
    "plt.plot(range_epochs, val_acc, label='Acurracy test')\n",
    "plt.legend(loc='lower right')\n",
    "plt.title('Accuracy test and train')\n",
    "\n",
    "plt.subplot(1,2,2)\n",
    "plt.plot(range_epochs, loss, label='Loss Train')\n",
    "plt.plot(range_epochs, val_loss, label='Loss test')\n",
    "plt.legend(loc='upper right')\n",
    "plt.title('Loss test and train')\n",
    "plt.show()"
   ]
  },
  {
   "cell_type": "code",
   "execution_count": null,
   "id": "2a206ce1-270f-4491-8d4d-68740e5f6db4",
   "metadata": {},
   "outputs": [],
   "source": [
    "#Saving the model\n",
    "dir='./model_resnet/'\n",
    "\n",
    "if not os.path.exists(dir):\n",
    "    os.mkdir(dir)\n",
    "model.save('./model_resnet/model_resnet.h5')\n",
    "model.save_weights('./model_resnet/weights_resnet.h5')"
   ]
  }
 ],
 "metadata": {
  "kernelspec": {
   "display_name": "Python 3",
   "language": "python",
   "name": "python3"
  },
  "language_info": {
   "codemirror_mode": {
    "name": "ipython",
    "version": 3
   },
   "file_extension": ".py",
   "mimetype": "text/x-python",
   "name": "python",
   "nbconvert_exporter": "python",
   "pygments_lexer": "ipython3",
   "version": "3.8.5"
  }
 },
 "nbformat": 4,
 "nbformat_minor": 5
}
