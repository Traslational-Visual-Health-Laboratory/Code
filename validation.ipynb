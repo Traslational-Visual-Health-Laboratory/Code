{
 "cells": [
  {
   "cell_type": "code",
   "execution_count": null,
   "id": "986c1082-00a3-4cbe-bcf6-7c0037e71a28",
   "metadata": {},
   "outputs": [],
   "source": [
    "#Validation\n",
    "from sklearn.metrics import confusion_matrix, f1_score, roc_curve, precision_score, recall_score, accuracy_score, roc_auc_score\n",
    "from sklearn import metrics\n",
    "import mlxtend\n",
    "from mlxtend.plotting import plot_confusion_matrix\n",
    "from keras.models import load_model\n",
    "from keras.preprocessing.image import ImageDataGenerator\n",
    "import numpy as np\n",
    "import matplotlib.pyplot as plt\n",
    "import tensorflow_hub as hub\n",
    "\n",
    "width_shape = 224\n",
    "height_shape = 224\n",
    "batch_size = 1\n",
    "\n",
    "names = ['DME', 'NO DME']\n",
    "\n",
    "#name of the folder where the validation data\n",
    "test_data_dir = ''\n",
    "\n",
    "test_datagen = ImageDataGenerator(rescale=1./255)\n",
    "\n",
    "test_generator = test_datagen.flow_from_directory(\n",
    "    test_data_dir,\n",
    "    target_size=(width_shape, height_shape),\n",
    "    batch_size = batch_size,\n",
    "    class_mode='binary',\n",
    "    shuffle=False)\n",
    "\n",
    "#model name and its weights\n",
    "model =''\n",
    "weights = ''\n",
    "\n",
    "custom_Model = load_model(model, custom_objects={'KerasLayer':hub.KerasLayer})\n",
    "custom_Model.load_weights(weights)\n",
    "\n",
    "\n",
    "predictions = custom_Model.predict_generator(generator=test_generator)\n",
    "\n",
    "y_pred = np.argmax(predictions, axis=1)\n",
    "y_real = test_generator.classes\n",
    "\n",
    "matc=confusion_matrix(y_real, y_pred)\n",
    "\n",
    "plot_confusion_matrix(conf_mat=matc, figsize=(4,4), show_normed=False)\n",
    "plt.tight_layout()\n",
    "plt.show()\n",
    "\n",
    "print(metrics.classification_report(y_real,y_pred, digits = 4))"
   ]
  }
 ],
 "metadata": {
  "kernelspec": {
   "display_name": "Python 3",
   "language": "python",
   "name": "python3"
  },
  "language_info": {
   "codemirror_mode": {
    "name": "ipython",
    "version": 3
   },
   "file_extension": ".py",
   "mimetype": "text/x-python",
   "name": "python",
   "nbconvert_exporter": "python",
   "pygments_lexer": "ipython3",
   "version": "3.8.5"
  }
 },
 "nbformat": 4,
 "nbformat_minor": 5
}
